{
 "cells": [
  {
   "cell_type": "code",
   "execution_count": 2,
   "metadata": {
    "collapsed": true
   },
   "outputs": [],
   "source": [
    "%matplotlib inline\n",
    "import matplotlib.pyplot as plt\n",
    "import numpy as np\n",
    "import pandas as pd"
   ]
  },
  {
   "cell_type": "code",
   "execution_count": 3,
   "metadata": {
    "collapsed": false
   },
   "outputs": [
    {
     "data": {
      "text/html": [
       "<div>\n",
       "<table border=\"1\" class=\"dataframe\">\n",
       "  <thead>\n",
       "    <tr style=\"text-align: right;\">\n",
       "      <th></th>\n",
       "      <th>Value</th>\n",
       "    </tr>\n",
       "    <tr>\n",
       "      <th>Date</th>\n",
       "      <th></th>\n",
       "    </tr>\n",
       "  </thead>\n",
       "  <tbody>\n",
       "    <tr>\n",
       "      <th>2003-01-02</th>\n",
       "      <td>30.05</td>\n",
       "    </tr>\n",
       "    <tr>\n",
       "      <th>2003-01-03</th>\n",
       "      <td>30.83</td>\n",
       "    </tr>\n",
       "    <tr>\n",
       "      <th>2003-01-06</th>\n",
       "      <td>30.71</td>\n",
       "    </tr>\n",
       "    <tr>\n",
       "      <th>2003-01-07</th>\n",
       "      <td>29.72</td>\n",
       "    </tr>\n",
       "    <tr>\n",
       "      <th>2003-01-08</th>\n",
       "      <td>28.86</td>\n",
       "    </tr>\n",
       "  </tbody>\n",
       "</table>\n",
       "</div>"
      ],
      "text/plain": [
       "            Value\n",
       "Date             \n",
       "2003-01-02  30.05\n",
       "2003-01-03  30.83\n",
       "2003-01-06  30.71\n",
       "2003-01-07  29.72\n",
       "2003-01-08  28.86"
      ]
     },
     "execution_count": 3,
     "metadata": {},
     "output_type": "execute_result"
    }
   ],
   "source": [
    "db = pd.read_csv(\"data_05_11_16.csv\", index_col=0, parse_dates=True)\n",
    "db.head()"
   ]
  },
  {
   "cell_type": "code",
   "execution_count": 4,
   "metadata": {
    "collapsed": false
   },
   "outputs": [
    {
     "data": {
      "text/plain": [
       "<matplotlib.axes._subplots.AxesSubplot at 0x7ffbc7c059e8>"
      ]
     },
     "execution_count": 4,
     "metadata": {},
     "output_type": "execute_result"
    },
    {
     "data": {
      "image/png": "[encoded data removed]",
      "text/plain": [
       "<matplotlib.figure.Figure at 0x7ffbc6ae6128>"
      ]
     },
     "metadata": {},
     "output_type": "display_data"
    }
   ],
   "source": [
    "db.plot()"
   ]
  },
  {
   "cell_type": "markdown",
   "metadata": {},
   "source": [
    "## Regressão Linear\n",
    "\n",
    "$$ \\text{min}_{w, b} \\sum_i || w^\\mathsf{T}x_i + b  - y_i||^2 $$"
   ]
  },
  {
   "cell_type": "code",
   "execution_count": 5,
   "metadata": {
    "collapsed": false
   },
   "outputs": [
    {
     "name": "stdout",
     "output_type": "stream",
     "text": [
      "[[  0.     0.  ]\n",
      " [ 30.05   0.  ]\n",
      " [ 30.83  30.05]\n",
      " ..., \n",
      " [ 45.83  47.04]\n",
      " [ 44.53  45.83]\n",
      " [ 43.12  44.53]]\n"
     ]
    }
   ],
   "source": [
    "db_shift = db.copy()\n",
    "db_shift.drop(\"Value\", axis=1, inplace=True)\n",
    "\n",
    "db_shift[\"lag1\"] = db.shift(1).fillna(0)\n",
    "db_shift[\"lag2\"] = db.shift(2).fillna(0)\n",
    "\n",
    "#db_shift.head()\n",
    "#db_shift.iloc[:,1]\n",
    "y = np.array(db.iloc[:,:])\n",
    "X = np.array(db_shift.iloc[:,:])\n",
    "print(X)"
   ]
  },
  {
   "cell_type": "code",
   "execution_count": 6,
   "metadata": {
    "collapsed": false
   },
   "outputs": [
    {
     "name": "stdout",
     "output_type": "stream",
     "text": [
      "(60, 2)\n",
      "(60, 1)\n",
      "(3512, 2)\n",
      "(3512, 1)\n"
     ]
    },
    {
     "data": {
      "text/plain": [
       "False"
      ]
     },
     "execution_count": 6,
     "metadata": {},
     "output_type": "execute_result"
    }
   ],
   "source": [
    "#from sklearn.cross_validation import train_test_split\n",
    "from sklearn.model_selection import train_test_split\n",
    "X_train, X_test, y_train, y_test = train_test_split(db_shift, db, random_state=5, train_size=60)\n",
    "print(X_train.shape)\n",
    "print(y_train.shape)\n",
    "print(X_test.shape)\n",
    "print(y_test.shape)\n",
    "np.any(np.isnan(X_test))\n",
    "#np.all(np.isfinite(X_test))\n"
   ]
  },
  {
   "cell_type": "code",
   "execution_count": 7,
   "metadata": {
    "collapsed": false,
    "scrolled": true
   },
   "outputs": [],
   "source": [
    "from sklearn.model_selection import TimeSeriesSplit\n",
    "from sklearn.linear_model import LinearRegression\n",
    "\n",
    "\n",
    "tscv = TimeSeriesSplit(n_splits=3)\n",
    "train_score = list()\n",
    "test_score = list()\n",
    "for train_index, test_index in tscv.split(X):\n",
    "        linear_regression = LinearRegression().fit(X[train_index,:], y[train_index])\n",
    "        train_score.append(linear_regression.score(X[train_index, :], y[train_index, :]))\n",
    "        train_score.append(linear_regression.score(X[train_index, :], y[train_index, :]))\n",
    "        #print(\"R^2 on training set: %f\" % linear_regression.score(X[train_index,:], y[train_index]))\n",
    "        #print(\"R^2 on test set: %f\" % linear_regression.score(X[test_index,:], y[test_index]))\n",
    "               "
   ]
  },
  {
   "cell_type": "code",
   "execution_count": 8,
   "metadata": {
    "collapsed": false
   },
   "outputs": [],
   "source": [
    "from sklearn.model_selection import cross_val_score\n",
    "from sklearn.model_selection import TimeSeriesSplit\n",
    "from sklearn.linear_model import LinearRegression\n",
    "\n",
    "scores = list()\n",
    "for split  in list(range(2,20)):\n",
    "    tscv = TimeSeriesSplit(n_splits=split)\n",
    "    lr = LinearRegression()\n",
    "    score = cross_val_score(lr, X, y, cv=tscv, scoring=\"r2\", n_jobs=4)\n",
    "    scores.append(score.mean())"
   ]
  },
  {
   "cell_type": "code",
   "execution_count": 9,
   "metadata": {
    "collapsed": false
   },
   "outputs": [
    {
     "data": {
      "text/plain": [
       "[<matplotlib.lines.Line2D at 0x7ffbaa593898>]"
      ]
     },
     "execution_count": 9,
     "metadata": {},
     "output_type": "execute_result"
    },
    {
     "data": {
      "image/png": "[encoded data removed]",
      "text/plain": [
       "<matplotlib.figure.Figure at 0x7ffbb6b935f8>"
      ]
     },
     "metadata": {},
     "output_type": "display_data"
    }
   ],
   "source": [
    "plt.plot(list(range(2,20)), scores, \"o\")"
   ]
  },
  {
   "cell_type": "code",
   "execution_count": 10,
   "metadata": {
    "collapsed": true
   },
   "outputs": [],
   "source": [
    "from sklearn.model_selection import TimeSeriesSplit\n",
    "from sklearn.linear_model import LinearRegression\n",
    "\n",
    "\n",
    "tscv = TimeSeriesSplit(n_splits=12)\n",
    "train_score = list()\n",
    "test_score = list()\n",
    "for train_index, test_index in tscv.split(X):\n",
    "        linear_regression = LinearRegression().fit(X[train_index,:], y[train_index])\n",
    "        #train_score.append(linear_regression.score(X[train_index, :], y[train_index, :]))\n",
    "        #train_score.append(linear_regression.score(X[train_index, :], y[train_index, :]))\n",
    "        #print(\"R^2 on training set: %f\" % linear_regression.score(X[train_index,:], y[train_index]))\n",
    "        #print(\"R^2 on test set: %f\" % linear_regression.score(X[test_index,:], y[test_index]))\n",
    "       "
   ]
  },
  {
   "cell_type": "code",
   "execution_count": 34,
   "metadata": {
    "collapsed": false
   },
   "outputs": [],
   "source": [
    "oil_lw = pd.read_csv(\"data_17_11_2016.csv\", index_col=0, parse_dates=True)\n",
    "end = pd.to_datetime(\"2016-11-17\")\n",
    "start = pd.to_datetime(\"2016-11-03\")\n",
    "y = np.array(oil_lw[start:end])\n",
    "\n",
    "oil_shift = oil_lw.copy()\n",
    "oil_shift.drop(\"Value\", axis=1, inplace=True)\n",
    "oil_shift[\"lag1\"] = oil_lw.shift(1).fillna(0)\n",
    "oil_shift[\"lag2\"] = oil_lw.shift(2).fillna(0)\n",
    "\n",
    "X = np.array(oil_shift[start:end])\n"
   ]
  },
  {
   "cell_type": "code",
   "execution_count": 35,
   "metadata": {
    "collapsed": false
   },
   "outputs": [
    {
     "name": "stderr",
     "output_type": "stream",
     "text": [
      "/home/alex/anaconda3/lib/python3.5/site-packages/sklearn/utils/deprecation.py:70: DeprecationWarning: Function residues_ is deprecated; ``residues_`` is deprecated and will be removed in 0.19\n",
      "  warnings.warn(msg, category=DeprecationWarning)\n"
     ]
    },
    {
     "data": {
      "text/plain": [
       "array([ 4562.59099715])"
      ]
     },
     "execution_count": 35,
     "metadata": {},
     "output_type": "execute_result"
    }
   ],
   "source": [
    "y_pred = linear_regression.predict(X)\n",
    "linear_regression.residues_"
   ]
  },
  {
   "cell_type": "code",
   "execution_count": 50,
   "metadata": {
    "collapsed": false
   },
   "outputs": [
    {
     "data": {
      "text/plain": [
       "<Container object of 11 artists>"
      ]
     },
     "execution_count": 50,
     "metadata": {},
     "output_type": "execute_result"
    },
    {
     "data": {
      "image/png": "[encoded data removed]",
      "text/plain": [
       "<matplotlib.figure.Figure at 0x7ffba9a8af98>"
      ]
     },
     "metadata": {},
     "output_type": "display_data"
    }
   ],
   "source": [
    "fig = plt.figure()\n",
    "ax1 = fig.add_subplot(3,1,1)\n",
    "ax1.plot(y, \"b^\")\n",
    "ax1.plot(y_pred, \"ro\")\n",
    "\n",
    "ax2 = fig.add_subplot(3,1,2)\n",
    "perc = ((y_pred-y)/y)*100\n",
    "ax2.bar(range(len(perc)),perc, align= \"edge\")\n",
    "\n",
    "ax3 = fig.add_subplot(3,1,3)\n",
    "r = ((y[]-y)/y)*100\n",
    "ax3.bar(range(len(perc)),perc, align= \"edge\")\n"
   ]
  },
  {
   "cell_type": "code",
   "execution_count": 76,
   "metadata": {
    "collapsed": false
   },
   "outputs": [
    {
     "data": {
      "text/plain": [
       "<Container object of 10 artists>"
      ]
     },
     "execution_count": 76,
     "metadata": {},
     "output_type": "execute_result"
    },
    {
     "data": {
      "image/png": "[encoded data removed]",
      "text/plain": [
       "<matplotlib.figure.Figure at 0x7ffba9aee5f8>"
      ]
     },
     "metadata": {},
     "output_type": "display_data"
    }
   ],
   "source": [
    "r_real=list()\n",
    "r_pred = list()\n",
    "for i in range(len(y[:])-1): \n",
    "    r_real.append((y[i+1][0]-y[i][0])/y[i])\n",
    "    r_pred.append((y_pred[i+1][0]-y[i][0])/y[i])\n",
    "\n",
    "plt.bar(range(len(r_real)), r_real, color=\"b\")\n",
    "plt.bar(range(len(r_pred)), r_pred, color=\"r\")\n"
   ]
  },
  {
   "cell_type": "code",
   "execution_count": null,
   "metadata": {
    "collapsed": false
   },
   "outputs": [],
   "source": [
    "from sklearn.metrics import r2_score\n",
    "#print(r2_score(np.dot(X, true_coefficient), y))\n",
    "ypred = linear_regression.coef_[0, 0]*X[:,0] + linear_regression.coef_[0,1]*X[:,1] + linear_regression.intercept_[0]"
   ]
  },
  {
   "cell_type": "code",
   "execution_count": null,
   "metadata": {
    "collapsed": false
   },
   "outputs": [],
   "source": [
    "linear_regression.coef_[0,1]*X[:,1]"
   ]
  },
  {
   "cell_type": "code",
   "execution_count": null,
   "metadata": {
    "collapsed": false
   },
   "outputs": [],
   "source": [
    "fig = plt.figure()\n",
    "ax = fig.add_subplot(111)\n",
    "ax.plot(y, \"bo\")\n",
    "ax.plot(ypred, \"r+\")"
   ]
  },
  {
   "cell_type": "code",
   "execution_count": null,
   "metadata": {
    "collapsed": false
   },
   "outputs": [],
   "source": [
    "ypred"
   ]
  }
 ],
 "metadata": {
  "kernelspec": {
   "display_name": "Python 3",
   "language": "python",
   "name": "python3"
  },
  "language_info": {
   "codemirror_mode": {
    "name": "ipython",
    "version": 3
   },
   "file_extension": ".py",
   "mimetype": "text/x-python",
   "name": "python",
   "nbconvert_exporter": "python",
   "pygments_lexer": "ipython3",
   "version": "3.5.2"
  }
 },
 "nbformat": 4,
 "nbformat_minor": 0
}
