{
 "cells": [
  {
   "cell_type": "code",
   "execution_count": 9,
   "metadata": {
    "collapsed": true
   },
   "outputs": [],
   "source": [
    "%matplotlib inline\n",
    "import matplotlib.pyplot as plt\n",
    "import numpy as np\n",
    "import pandas as pd"
   ]
  },
  {
   "cell_type": "code",
   "execution_count": 10,
   "metadata": {
    "collapsed": false
   },
   "outputs": [
    {
     "data": {
      "text/html": [
       "<div>\n",
       "<table border=\"1\" class=\"dataframe\">\n",
       "  <thead>\n",
       "    <tr style=\"text-align: right;\">\n",
       "      <th></th>\n",
       "      <th>Value</th>\n",
       "    </tr>\n",
       "    <tr>\n",
       "      <th>Date</th>\n",
       "      <th></th>\n",
       "    </tr>\n",
       "  </thead>\n",
       "  <tbody>\n",
       "    <tr>\n",
       "      <th>2003-01-02</th>\n",
       "      <td>30.05</td>\n",
       "    </tr>\n",
       "    <tr>\n",
       "      <th>2003-01-03</th>\n",
       "      <td>30.83</td>\n",
       "    </tr>\n",
       "    <tr>\n",
       "      <th>2003-01-06</th>\n",
       "      <td>30.71</td>\n",
       "    </tr>\n",
       "    <tr>\n",
       "      <th>2003-01-07</th>\n",
       "      <td>29.72</td>\n",
       "    </tr>\n",
       "    <tr>\n",
       "      <th>2003-01-08</th>\n",
       "      <td>28.86</td>\n",
       "    </tr>\n",
       "  </tbody>\n",
       "</table>\n",
       "</div>"
      ],
      "text/plain": [
       "            Value\n",
       "Date             \n",
       "2003-01-02  30.05\n",
       "2003-01-03  30.83\n",
       "2003-01-06  30.71\n",
       "2003-01-07  29.72\n",
       "2003-01-08  28.86"
      ]
     },
     "execution_count": 10,
     "metadata": {},
     "output_type": "execute_result"
    }
   ],
   "source": [
    "db = pd.read_csv(\"data_05_11_16.csv\", index_col=0, parse_dates=True)\n",
    "db.head()"
   ]
  },
  {
   "cell_type": "code",
   "execution_count": 11,
   "metadata": {
    "collapsed": false
   },
   "outputs": [
    {
     "data": {
      "text/plain": [
       "<matplotlib.axes._subplots.AxesSubplot at 0x7f9a1028c828>"
      ]
     },
     "execution_count": 11,
     "metadata": {},
     "output_type": "execute_result"
    },
    {
     "data": {
      "image/png": "[encoded data removed]",
      "text/plain": [
       "<matplotlib.figure.Figure at 0x7f9a1260dd68>"
      ]
     },
     "metadata": {},
     "output_type": "display_data"
    }
   ],
   "source": [
    "db.plot()"
   ]
  },
  {
   "cell_type": "markdown",
   "metadata": {},
   "source": [
    "## Regressão Linear\n",
    "\n",
    "$$ \\text{min}_{w, b} \\sum_i || w^\\mathsf{T}x_i + b  - y_i||^2 $$"
   ]
  },
  {
   "cell_type": "code",
   "execution_count": 12,
   "metadata": {
    "collapsed": false
   },
   "outputs": [
    {
     "data": {
      "text/plain": [
       "array([ 30.05,  30.83,  30.71, ...,  44.53,  43.12,  42.65])"
      ]
     },
     "execution_count": 12,
     "metadata": {},
     "output_type": "execute_result"
    }
   ],
   "source": [
    "np.array(db)[:,0]"
   ]
  },
  {
   "cell_type": "code",
   "execution_count": 13,
   "metadata": {
    "collapsed": false
   },
   "outputs": [
    {
     "data": {
      "image/png": "[encoded data removed]",
      "text/plain": [
       "<matplotlib.figure.Figure at 0x7f9a0dcf82b0>"
      ]
     },
     "metadata": {},
     "output_type": "display_data"
    }
   ],
   "source": [
    "lags, c, line, b = plt.acorr(np.array(db)[:,0], maxlags=30)"
   ]
  },
  {
   "cell_type": "code",
   "execution_count": 14,
   "metadata": {
    "collapsed": false
   },
   "outputs": [
    {
     "data": {
      "text/plain": [
       "array([ 0.99183392,  0.99217023,  0.99249666,  0.9928184 ,  0.99313787,\n",
       "        0.99345146,  0.9937539 ,  0.9940521 ,  0.9943492 ,  0.99465054,\n",
       "        0.99495085,  0.99524319,  0.99552658,  0.9958162 ,  0.99610791,\n",
       "        0.99639186,  0.99667057,  0.99694172,  0.9972087 ,  0.99746905,\n",
       "        0.9977273 ,  0.99797818,  0.99822496,  0.99847126,  0.99870958,\n",
       "        0.99894755,  0.99917833,  0.99940154,  0.99962144,  0.99983705,\n",
       "        1.        ,  0.99983705,  0.99962144,  0.99940154,  0.99917833,\n",
       "        0.99894755,  0.99870958,  0.99847126,  0.99822496,  0.99797818,\n",
       "        0.9977273 ,  0.99746905,  0.9972087 ,  0.99694172,  0.99667057,\n",
       "        0.99639186,  0.99610791,  0.9958162 ,  0.99552658,  0.99524319,\n",
       "        0.99495085,  0.99465054,  0.9943492 ,  0.9940521 ,  0.9937539 ,\n",
       "        0.99345146,  0.99313787,  0.9928184 ,  0.99249666,  0.99217023,\n",
       "        0.99183392])"
      ]
     },
     "execution_count": 14,
     "metadata": {},
     "output_type": "execute_result"
    }
   ],
   "source": [
    "c"
   ]
  },
  {
   "cell_type": "code",
   "execution_count": 15,
   "metadata": {
    "collapsed": false
   },
   "outputs": [
    {
     "name": "stdout",
     "output_type": "stream",
     "text": [
      "[[  0.     0.  ]\n",
      " [ 30.05   0.  ]\n",
      " [ 30.83  30.05]\n",
      " ..., \n",
      " [ 45.83  47.04]\n",
      " [ 44.53  45.83]\n",
      " [ 43.12  44.53]]\n"
     ]
    }
   ],
   "source": [
    "db_shift = db.copy()\n",
    "db_shift.drop(\"Value\", axis=1, inplace=True)\n",
    "\n",
    "db_shift[\"lag1\"] = db.shift(1).fillna(0)\n",
    "db_shift[\"lag2\"] = db.shift(2).fillna(0)\n",
    "\n",
    "#db_shift.head()\n",
    "#db_shift.iloc[:,1]\n",
    "y = np.array(db.iloc[:,:])\n",
    "X = np.array(db_shift.iloc[:,:])\n",
    "print(X)"
   ]
  },
  {
   "cell_type": "code",
   "execution_count": 16,
   "metadata": {
    "collapsed": false
   },
   "outputs": [
    {
     "name": "stdout",
     "output_type": "stream",
     "text": [
      "(60, 2)\n",
      "(60, 1)\n",
      "(3512, 2)\n",
      "(3512, 1)\n"
     ]
    },
    {
     "data": {
      "text/plain": [
       "False"
      ]
     },
     "execution_count": 16,
     "metadata": {},
     "output_type": "execute_result"
    }
   ],
   "source": [
    "#from sklearn.cross_validation import train_test_split\n",
    "from sklearn.model_selection import train_test_split\n",
    "X_train, X_test, y_train, y_test = train_test_split(db_shift, db, random_state=5, train_size=60)\n",
    "print(X_train.shape)\n",
    "print(y_train.shape)\n",
    "print(X_test.shape)\n",
    "print(y_test.shape)\n",
    "np.any(np.isnan(X_test))\n",
    "#np.all(np.isfinite(X_test))\n"
   ]
  },
  {
   "cell_type": "code",
   "execution_count": 17,
   "metadata": {
    "collapsed": false,
    "scrolled": true
   },
   "outputs": [],
   "source": [
    "from sklearn.model_selection import TimeSeriesSplit\n",
    "from sklearn.linear_model import LinearRegression\n",
    "\n",
    "\n",
    "tscv = TimeSeriesSplit(n_splits=3)\n",
    "train_score = list()\n",
    "test_score = list()\n",
    "for train_index, test_index in tscv.split(X):\n",
    "        linear_regression = LinearRegression().fit(X[train_index,:], y[train_index])\n",
    "        train_score.append(linear_regression.score(X[train_index, :], y[train_index, :]))\n",
    "        train_score.append(linear_regression.score(X[train_index, :], y[train_index, :]))\n",
    "        #print(\"R^2 on training set: %f\" % linear_regression.score(X[train_index,:], y[train_index]))\n",
    "        #print(\"R^2 on test set: %f\" % linear_regression.score(X[test_index,:], y[test_index]))\n",
    "               "
   ]
  },
  {
   "cell_type": "code",
   "execution_count": 18,
   "metadata": {
    "collapsed": false
   },
   "outputs": [],
   "source": [
    "from sklearn.model_selection import cross_val_score\n",
    "from sklearn.model_selection import TimeSeriesSplit\n",
    "from sklearn.linear_model import LinearRegression\n",
    "\n",
    "scores = list()\n",
    "for split  in list(range(2,20)):\n",
    "    tscv = TimeSeriesSplit(n_splits=split)\n",
    "    lr = LinearRegression()\n",
    "    score = cross_val_score(lr, X, y, cv=tscv, scoring=\"r2\", n_jobs=4)\n",
    "    scores.append(score.mean())"
   ]
  },
  {
   "cell_type": "code",
   "execution_count": 19,
   "metadata": {
    "collapsed": false
   },
   "outputs": [
    {
     "data": {
      "text/plain": [
       "[<matplotlib.lines.Line2D at 0x7f9a01b7b358>]"
      ]
     },
     "execution_count": 19,
     "metadata": {},
     "output_type": "execute_result"
    },
    {
     "data": {
      "image/png": "[encoded data removed]",
      "text/plain": [
       "<matplotlib.figure.Figure at 0x7f9a0dca3a90>"
      ]
     },
     "metadata": {},
     "output_type": "display_data"
    }
   ],
   "source": [
    "plt.plot(list(range(2,20)), scores, \"o\")"
   ]
  },
  {
   "cell_type": "code",
   "execution_count": 20,
   "metadata": {
    "collapsed": true
   },
   "outputs": [],
   "source": [
    "from sklearn.model_selection import TimeSeriesSplit\n",
    "from sklearn.linear_model import LinearRegression\n",
    "\n",
    "\n",
    "tscv = TimeSeriesSplit(n_splits=12)\n",
    "train_score = list()\n",
    "test_score = list()\n",
    "for train_index, test_index in tscv.split(X):\n",
    "        linear_regression = LinearRegression().fit(X[train_index,:], y[train_index])\n",
    "        #train_score.append(linear_regression.score(X[train_index, :], y[train_index, :]))\n",
    "        #train_score.append(linear_regression.score(X[train_index, :], y[train_index, :]))\n",
    "        #print(\"R^2 on training set: %f\" % linear_regression.score(X[train_index,:], y[train_index]))\n",
    "        #print(\"R^2 on test set: %f\" % linear_regression.score(X[test_index,:], y[test_index]))\n",
    "       "
   ]
  },
  {
   "cell_type": "code",
   "execution_count": 21,
   "metadata": {
    "collapsed": false
   },
   "outputs": [],
   "source": [
    "oil_lw = pd.read_csv(\"data_17_11_2016.csv\", index_col=0, parse_dates=True)\n",
    "end = pd.to_datetime(\"2016-11-17\")\n",
    "start = pd.to_datetime(\"2016-11-03\")\n",
    "y = np.array(oil_lw[start:end])\n",
    "\n",
    "oil_shift = oil_lw.copy()\n",
    "oil_shift.drop(\"Value\", axis=1, inplace=True)\n",
    "oil_shift[\"lag1\"] = oil_lw.shift(1).fillna(0)\n",
    "oil_shift[\"lag2\"] = oil_lw.shift(2).fillna(0)\n",
    "\n",
    "X = np.array(oil_shift[start:end])\n"
   ]
  },
  {
   "cell_type": "code",
   "execution_count": 22,
   "metadata": {
    "collapsed": false
   },
   "outputs": [
    {
     "name": "stderr",
     "output_type": "stream",
     "text": [
      "/home/alex/anaconda3/lib/python3.5/site-packages/sklearn/utils/deprecation.py:70: DeprecationWarning: Function residues_ is deprecated; ``residues_`` is deprecated and will be removed in 0.19\n",
      "  warnings.warn(msg, category=DeprecationWarning)\n"
     ]
    },
    {
     "data": {
      "text/plain": [
       "array([ 4562.59099715])"
      ]
     },
     "execution_count": 22,
     "metadata": {},
     "output_type": "execute_result"
    }
   ],
   "source": [
    "y_pred = linear_regression.predict(X)\n",
    "linear_regression.residues_"
   ]
  },
  {
   "cell_type": "code",
   "execution_count": 23,
   "metadata": {
    "collapsed": false
   },
   "outputs": [
    {
     "data": {
      "text/plain": [
       "<matplotlib.text.Text at 0x7f9a01a6d828>"
      ]
     },
     "execution_count": 23,
     "metadata": {},
     "output_type": "execute_result"
    },
    {
     "data": {
      "image/png": "[encoded data removed]",
      "text/plain": [
       "<matplotlib.figure.Figure at 0x7f9a01b35128>"
      ]
     },
     "metadata": {},
     "output_type": "display_data"
    }
   ],
   "source": [
    "fig = plt.figure(figsize=(10,10))\n",
    "ax1 = fig.add_subplot(3,1,1)\n",
    "ax1.plot(y, color=\"b\", marker=\"o\", linestyle=\"--\")\n",
    "ax1.plot(y_pred, color = \"r\", marker=\"o\", linestyle=\"-\")\n",
    "ax1.set_ylabel(\"Preço\")\n",
    "\n",
    "ax2 = fig.add_subplot(3,1,2)\n",
    "perc = ((y_pred-y)/y)*100\n",
    "ax2.bar(range(len(perc)),perc, align= \"edge\")\n",
    "ax2.set_ylabel(\"(Previsto - Real)/Previsto\")\n",
    "\n",
    "ax3 = fig.add_subplot(3,1,3)\n",
    "\n",
    "r_real=list()\n",
    "r_pred = list()\n",
    "for i in range(len(y[:])-1): \n",
    "    r_real.append((y[i+1][0]-y[i][0])/y[i])\n",
    "    r_pred.append((y_pred[i+1][0]-y[i][0])/y[i])\n",
    "\n",
    "ax3.bar(range(len(r_real)), r_real, color=\"b\")\n",
    "ax3.bar(range(len(r_pred)), r_pred, color=\"r\")\n",
    "\n",
    "ax3.set_ylabel(\"Retorno\")"
   ]
  },
  {
   "cell_type": "code",
   "execution_count": 24,
   "metadata": {
    "collapsed": false
   },
   "outputs": [
    {
     "name": "stdout",
     "output_type": "stream",
     "text": [
      "2.8.3\n"
     ]
    }
   ],
   "source": [
    "import rpy2\n",
    "print(rpy2.__version__)\n",
    "\n",
    "from rpy2.robjects.packages import importr\n",
    "# import R's \"base\" package\n",
    "base = importr('base')\n",
    "\n",
    "# import R's \"utils\" package\n",
    "utils = importr('utils')\n",
    "\n",
    "\n"
   ]
  },
  {
   "cell_type": "code",
   "execution_count": 37,
   "metadata": {
    "collapsed": false
   },
   "outputs": [
    {
     "name": "stdout",
     "output_type": "stream",
     "text": [
      "<class 'rpy2.robjects.vectors.DataFrame'>\n"
     ]
    }
   ],
   "source": [
    "from rpy2.robjects import pandas2ri\n",
    "pandas2ri.activate()\n",
    "\n",
    "from rpy2.robjects import r\n",
    "\n",
    "#import pandas.rpy.common as com\n",
    "#r_dataframe = com.convert_to_r_dataframe(db_shift)\n",
    "#print(type(r_dataframe))\n",
    "\n",
    "r."
   ]
  },
  {
   "cell_type": "code",
   "execution_count": 26,
   "metadata": {
    "collapsed": false
   },
   "outputs": [],
   "source": [
    "from sklearn.metrics import r2_score\n",
    "#print(r2_score(np.dot(X, true_coefficient), y))\n",
    "ypred = linear_regression.coef_[0, 0]*X[:,0] + linear_regression.coef_[0,1]*X[:,1] + linear_regression.intercept_[0]"
   ]
  },
  {
   "cell_type": "code",
   "execution_count": 27,
   "metadata": {
    "collapsed": false
   },
   "outputs": [
    {
     "data": {
      "text/plain": [
       "array([-9.67475665, -9.36827705, -9.26394357, -9.09657528, -9.12483227,\n",
       "       -9.17699901, -9.10744335, -9.27481164, -9.02919324, -8.89877639,\n",
       "       -9.09440167])"
      ]
     },
     "execution_count": 27,
     "metadata": {},
     "output_type": "execute_result"
    }
   ],
   "source": [
    "linear_regression.coef_[0,1]*X[:,1]"
   ]
  },
  {
   "cell_type": "code",
   "execution_count": 28,
   "metadata": {
    "collapsed": false
   },
   "outputs": [
    {
     "data": {
      "text/plain": [
       "[<matplotlib.lines.Line2D at 0x7f9a126f5978>]"
      ]
     },
     "execution_count": 28,
     "metadata": {},
     "output_type": "execute_result"
    },
    {
     "data": {
      "image/png": "[encoded data removed]",
      "text/plain": [
       "<matplotlib.figure.Figure at 0x7f9a126c0438>"
      ]
     },
     "metadata": {},
     "output_type": "display_data"
    }
   ],
   "source": [
    "fig = plt.figure()\n",
    "ax = fig.add_subplot(111)\n",
    "ax.plot(y, \"bo\")\n",
    "ax.plot(ypred, \"r+\")"
   ]
  },
  {
   "cell_type": "code",
   "execution_count": 29,
   "metadata": {
    "collapsed": false
   },
   "outputs": [
    {
     "data": {
      "text/plain": [
       "array([ 42.85574101,  42.5787051 ,  41.74698244,  42.07238618,\n",
       "        42.33588695,  41.89470987,  42.90032166,  41.3592606 ,\n",
       "        40.87548461,  42.09999305,  43.19296453])"
      ]
     },
     "execution_count": 29,
     "metadata": {},
     "output_type": "execute_result"
    }
   ],
   "source": [
    "ypred"
   ]
  }
 ],
 "metadata": {
  "kernelspec": {
   "display_name": "Python 3",
   "language": "python",
   "name": "python3"
  },
  "language_info": {
   "codemirror_mode": {
    "name": "ipython",
    "version": 3
   },
   "file_extension": ".py",
   "mimetype": "text/x-python",
   "name": "python",
   "nbconvert_exporter": "python",
   "pygments_lexer": "ipython3",
   "version": "3.5.2"
  }
 },
 "nbformat": 4,
 "nbformat_minor": 0
}
