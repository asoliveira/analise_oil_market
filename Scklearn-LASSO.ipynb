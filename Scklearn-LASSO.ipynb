{
 "cells": [
  {
   "cell_type": "code",
   "execution_count": 5,
   "metadata": {
    "collapsed": true
   },
   "outputs": [],
   "source": [
    "%matplotlib inline\n",
    "import matplotlib.pyplot as plt\n",
    "import numpy as np\n",
    "import pandas as pd"
   ]
  },
  {
   "cell_type": "code",
   "execution_count": 14,
   "metadata": {
    "collapsed": false
   },
   "outputs": [
    {
     "data": {
      "text/html": [
       "<div>\n",
       "<table border=\"1\" class=\"dataframe\">\n",
       "  <thead>\n",
       "    <tr style=\"text-align: right;\">\n",
       "      <th></th>\n",
       "      <th>Value</th>\n",
       "    </tr>\n",
       "    <tr>\n",
       "      <th>Date</th>\n",
       "      <th></th>\n",
       "    </tr>\n",
       "  </thead>\n",
       "  <tbody>\n",
       "    <tr>\n",
       "      <th>2003-01-02</th>\n",
       "      <td>30.05</td>\n",
       "    </tr>\n",
       "    <tr>\n",
       "      <th>2003-01-03</th>\n",
       "      <td>30.83</td>\n",
       "    </tr>\n",
       "    <tr>\n",
       "      <th>2003-01-06</th>\n",
       "      <td>30.71</td>\n",
       "    </tr>\n",
       "    <tr>\n",
       "      <th>2003-01-07</th>\n",
       "      <td>29.72</td>\n",
       "    </tr>\n",
       "    <tr>\n",
       "      <th>2003-01-08</th>\n",
       "      <td>28.86</td>\n",
       "    </tr>\n",
       "  </tbody>\n",
       "</table>\n",
       "</div>"
      ],
      "text/plain": [
       "            Value\n",
       "Date             \n",
       "2003-01-02  30.05\n",
       "2003-01-03  30.83\n",
       "2003-01-06  30.71\n",
       "2003-01-07  29.72\n",
       "2003-01-08  28.86"
      ]
     },
     "execution_count": 14,
     "metadata": {},
     "output_type": "execute_result"
    }
   ],
   "source": [
    "db = pd.read_csv(\"opec/data_05_11_16.csv\", index_col=0, parse_dates=True)\n",
    "db.head()"
   ]
  },
  {
   "cell_type": "code",
   "execution_count": 15,
   "metadata": {
    "collapsed": false
   },
   "outputs": [
    {
     "data": {
      "text/plain": [
       "<matplotlib.axes._subplots.AxesSubplot at 0x7f9b10230470>"
      ]
     },
     "execution_count": 15,
     "metadata": {},
     "output_type": "execute_result"
    },
    {
     "data": {
      "image/png": "[encoded data removed]",
      "text/plain": [
       "<matplotlib.figure.Figure at 0x7f9b10283710>"
      ]
     },
     "metadata": {},
     "output_type": "display_data"
    }
   ],
   "source": [
    "db.plot()"
   ]
  },
  {
   "cell_type": "markdown",
   "metadata": {},
   "source": [
    "## Regressão Linear\n",
    "\n",
    "$$ \\text{min}_{w, b} \\sum_i || w^\\mathsf{T}x_i + b  - y_i||^2 $$"
   ]
  },
  {
   "cell_type": "code",
   "execution_count": 16,
   "metadata": {
    "collapsed": false
   },
   "outputs": [
    {
     "data": {
      "text/plain": [
       "array([ 30.05,  30.83,  30.71, ...,  44.53,  43.12,  42.65])"
      ]
     },
     "execution_count": 16,
     "metadata": {},
     "output_type": "execute_result"
    }
   ],
   "source": [
    "np.array(db)[:,0]"
   ]
  },
  {
   "cell_type": "code",
   "execution_count": 17,
   "metadata": {
    "collapsed": false
   },
   "outputs": [
    {
     "data": {
      "image/png": "[encoded data removed]",
      "text/plain": [
       "<matplotlib.figure.Figure at 0x7f9b0dcc25c0>"
      ]
     },
     "metadata": {},
     "output_type": "display_data"
    }
   ],
   "source": [
    "lags, c, line, b = plt.acorr(np.array(db)[:,0], maxlags=30)"
   ]
  },
  {
   "cell_type": "code",
   "execution_count": 18,
   "metadata": {
    "collapsed": false
   },
   "outputs": [
    {
     "name": "stdout",
     "output_type": "stream",
     "text": [
      "[[  0.     0.     0.     0.     0.  ]\n",
      " [ 30.05   0.     0.     0.     0.  ]\n",
      " [ 30.83  30.05   0.     0.     0.  ]\n",
      " ..., \n",
      " [ 45.83  47.04  47.23  46.96  47.83]\n",
      " [ 44.53  45.83  47.04  47.23  46.96]\n",
      " [ 43.12  44.53  45.83  47.04  47.23]]\n"
     ]
    }
   ],
   "source": [
    "db_shift = db.copy()\n",
    "db_shift.drop(\"Value\", axis=1, inplace=True)\n",
    "\n",
    "db_shift[\"lag1\"] = db.shift(1).fillna(0)\n",
    "db_shift[\"lag2\"] = db.shift(2).fillna(0)\n",
    "db_shift[\"lag3\"] = db.shift(3).fillna(0)\n",
    "db_shift[\"lag4\"] = db.shift(4).fillna(0)\n",
    "db_shift[\"lag5\"] = db.shift(5).fillna(0)\n",
    "\n",
    "#db_shift.head()\n",
    "#db_shift.iloc[:,1]\n",
    "y = np.array(db.iloc[:,:])\n",
    "X = np.array(db_shift.iloc[:,:])\n",
    "print(X)"
   ]
  },
  {
   "cell_type": "code",
   "execution_count": 19,
   "metadata": {
    "collapsed": false
   },
   "outputs": [
    {
     "name": "stdout",
     "output_type": "stream",
     "text": [
      "(60, 5)\n",
      "(60, 1)\n",
      "(3512, 5)\n",
      "(3512, 1)\n"
     ]
    },
    {
     "data": {
      "text/plain": [
       "False"
      ]
     },
     "execution_count": 19,
     "metadata": {},
     "output_type": "execute_result"
    }
   ],
   "source": [
    "#from sklearn.cross_validation import train_test_split\n",
    "from sklearn.model_selection import train_test_split\n",
    "X_train, X_test, y_train, y_test = train_test_split(db_shift, db, random_state=5, train_size=60)\n",
    "print(X_train.shape)\n",
    "print(y_train.shape)\n",
    "print(X_test.shape)\n",
    "print(y_test.shape)\n",
    "np.any(np.isnan(X_test))\n",
    "#np.all(np.isfinite(X_test))\n"
   ]
  },
  {
   "cell_type": "code",
   "execution_count": 20,
   "metadata": {
    "collapsed": false,
    "scrolled": true
   },
   "outputs": [],
   "source": [
    "from sklearn.model_selection import TimeSeriesSplit\n",
    "from sklearn.linear_model import LinearRegression\n",
    "\n",
    "\n",
    "tscv = TimeSeriesSplit(n_splits=3)\n",
    "train_score = list()\n",
    "test_score = list()\n",
    "for train_index, test_index in tscv.split(X):\n",
    "        linear_regression = LinearRegression().fit(X[train_index,:], y[train_index])\n",
    "        train_score.append(linear_regression.score(X[train_index, :], y[train_index, :]))\n",
    "        train_score.append(linear_regression.score(X[train_index, :], y[train_index, :]))\n",
    "        #print(\"R^2 on training set: %f\" % linear_regression.score(X[train_index,:], y[train_index]))\n",
    "        #print(\"R^2 on test set: %f\" % linear_regression.score(X[test_index,:], y[test_index]))\n",
    "               "
   ]
  },
  {
   "cell_type": "code",
   "execution_count": 21,
   "metadata": {
    "collapsed": false
   },
   "outputs": [],
   "source": [
    "from sklearn.model_selection import cross_val_score\n",
    "from sklearn.model_selection import TimeSeriesSplit\n",
    "from sklearn.linear_model import LinearRegression\n",
    "\n",
    "scores = list()\n",
    "for split  in list(range(2,20)):\n",
    "    tscv = TimeSeriesSplit(n_splits=split)\n",
    "    lr = LinearRegression()\n",
    "    score = cross_val_score(lr, X, y, cv=tscv, scoring=\"r2\", n_jobs=4)\n",
    "    scores.append(score.mean())"
   ]
  },
  {
   "cell_type": "code",
   "execution_count": 22,
   "metadata": {
    "collapsed": false
   },
   "outputs": [
    {
     "data": {
      "text/plain": [
       "[<matplotlib.lines.Line2D at 0x7f9b094416d8>]"
      ]
     },
     "execution_count": 22,
     "metadata": {},
     "output_type": "execute_result"
    },
    {
     "data": {
      "image/png": "[encoded data removed]",
      "text/plain": [
       "<matplotlib.figure.Figure at 0x7f9b0dc494e0>"
      ]
     },
     "metadata": {},
     "output_type": "display_data"
    }
   ],
   "source": [
    "plt.plot(list(range(2,20)), scores, \"o\")"
   ]
  },
  {
   "cell_type": "code",
   "execution_count": 23,
   "metadata": {
    "collapsed": false
   },
   "outputs": [],
   "source": [
    "from sklearn.model_selection import TimeSeriesSplit\n",
    "from sklearn.linear_model import LinearRegression\n",
    "from sklearn.linear_model import Lasso\n",
    "\n",
    "\n",
    "tscv = TimeSeriesSplit(n_splits=12)\n",
    "train_score = list()\n",
    "test_score = list()\n",
    "for train_index, test_index in tscv.split(X):\n",
    "        linear_regression = Lasso().fit(X[train_index,:], y[train_index])\n",
    "        #train_score.append(linear_regression.score(X[train_index, :], y[train_index, :]))\n",
    "        #train_score.append(linear_regression.score(X[train_index, :], y[train_index, :]))\n",
    "        #print(\"R^2 on training set: %f\" % linear_regression.score(X[train_index,:], y[train_index]))\n",
    "        #print(\"R^2 on test set: %f\" % linear_regression.score(X[test_index,:], y[test_index]))\n",
    "       "
   ]
  },
  {
   "cell_type": "code",
   "execution_count": 27,
   "metadata": {
    "collapsed": false
   },
   "outputs": [
    {
     "name": "stdout",
     "output_type": "stream",
     "text": [
      "analise_opec.R     data_17_11_2016.csv  opec_basket_price.csv  scrap.R\r\n",
      "data_05_11_16.csv  guideline            opec.Rproj\r\n"
     ]
    }
   ],
   "source": [
    "%ls opec"
   ]
  },
  {
   "cell_type": "code",
   "execution_count": 28,
   "metadata": {
    "collapsed": false
   },
   "outputs": [
    {
     "data": {
      "text/plain": [
       "count     60.000000\n",
       "mean      70.709500\n",
       "std       29.494197\n",
       "min       26.370000\n",
       "25%       50.870000\n",
       "50%       66.755000\n",
       "75%      102.030000\n",
       "max      135.210000\n",
       "Name: lag1, dtype: float64"
      ]
     },
     "execution_count": 28,
     "metadata": {},
     "output_type": "execute_result"
    }
   ],
   "source": [
    "oil_lw = pd.read_csv(\"opec/data_17_11_2016.csv\", index_col=0, parse_dates=True)\n",
    "end = pd.to_datetime(\"2016-11-17\")\n",
    "start = pd.to_datetime(\"2016-11-03\")\n",
    "y = np.array(oil_lw[start:end])\n",
    "\n",
    "oil_shift = oil_lw.copy()\n",
    "oil_shift.drop(\"Value\", axis=1, inplace=True)\n",
    "oil_shift[\"lag1\"] = oil_lw.shift(1).fillna(0)\n",
    "oil_shift[\"lag2\"] = oil_lw.shift(2).fillna(0)\n",
    "oil_shift[\"lag3\"] = oil_lw.shift(3).fillna(0)\n",
    "oil_shift[\"lag4\"] = oil_lw.shift(4).fillna(0)\n",
    "oil_shift[\"lag5\"] = oil_lw.shift(5).fillna(0)\n",
    "\n",
    "X = np.array(oil_shift[start:end])\n",
    "oil_shift.describe()\n",
    "X_train.describe()[\"lag1\"]"
   ]
  },
  {
   "cell_type": "code",
   "execution_count": 31,
   "metadata": {
    "collapsed": true
   },
   "outputs": [],
   "source": [
    "oil_lw = pd.read_csv(\"opec/data_17_11_2016.csv\", index_col=0, parse_dates=True)\n",
    "X = np.array(oil_shift)"
   ]
  },
  {
   "cell_type": "code",
   "execution_count": 35,
   "metadata": {
    "collapsed": false
   },
   "outputs": [
    {
     "data": {
      "text/plain": [
       "(3582,)"
      ]
     },
     "execution_count": 35,
     "metadata": {},
     "output_type": "execute_result"
    }
   ],
   "source": [
    "y_pred = linear_regression.predict(X)\n",
    "linear_regression.alpha\n",
    "#print(y_pred.reshape(len(y),1))\n",
    "#print(y)\n",
    "y_pred.shape\n"
   ]
  },
  {
   "cell_type": "code",
   "execution_count": 33,
   "metadata": {
    "collapsed": false
   },
   "outputs": [
    {
     "ename": "ValueError",
     "evalue": "operands could not be broadcast together with shapes (3582,1) (11,1) ",
     "output_type": "error",
     "traceback": [
      "\u001b[1;31m---------------------------------------------------------------------------\u001b[0m",
      "\u001b[1;31mValueError\u001b[0m                                Traceback (most recent call last)",
      "\u001b[1;32m<ipython-input-33-f57a3d085364>\u001b[0m in \u001b[0;36m<module>\u001b[1;34m()\u001b[0m\n\u001b[0;32m      7\u001b[0m \u001b[1;33m\u001b[0m\u001b[0m\n\u001b[0;32m      8\u001b[0m \u001b[0max2\u001b[0m \u001b[1;33m=\u001b[0m \u001b[0mfig\u001b[0m\u001b[1;33m.\u001b[0m\u001b[0madd_subplot\u001b[0m\u001b[1;33m(\u001b[0m\u001b[1;36m3\u001b[0m\u001b[1;33m,\u001b[0m\u001b[1;36m1\u001b[0m\u001b[1;33m,\u001b[0m\u001b[1;36m2\u001b[0m\u001b[1;33m)\u001b[0m\u001b[1;33m\u001b[0m\u001b[0m\n\u001b[1;32m----> 9\u001b[1;33m \u001b[0mperc\u001b[0m \u001b[1;33m=\u001b[0m \u001b[1;33m(\u001b[0m\u001b[1;33m(\u001b[0m\u001b[0my_pred\u001b[0m\u001b[1;33m-\u001b[0m\u001b[0my\u001b[0m\u001b[1;33m)\u001b[0m\u001b[1;33m/\u001b[0m\u001b[0my\u001b[0m\u001b[1;33m)\u001b[0m\u001b[1;33m*\u001b[0m\u001b[1;36m100\u001b[0m\u001b[1;33m\u001b[0m\u001b[0m\n\u001b[0m\u001b[0;32m     10\u001b[0m \u001b[0max2\u001b[0m\u001b[1;33m.\u001b[0m\u001b[0mbar\u001b[0m\u001b[1;33m(\u001b[0m\u001b[0mrange\u001b[0m\u001b[1;33m(\u001b[0m\u001b[0mlen\u001b[0m\u001b[1;33m(\u001b[0m\u001b[0mperc\u001b[0m\u001b[1;33m)\u001b[0m\u001b[1;33m)\u001b[0m\u001b[1;33m,\u001b[0m\u001b[0mperc\u001b[0m\u001b[1;33m,\u001b[0m \u001b[0malign\u001b[0m\u001b[1;33m=\u001b[0m \u001b[1;34m\"edge\"\u001b[0m\u001b[1;33m)\u001b[0m\u001b[1;33m\u001b[0m\u001b[0m\n\u001b[0;32m     11\u001b[0m \u001b[0max2\u001b[0m\u001b[1;33m.\u001b[0m\u001b[0mset_ylabel\u001b[0m\u001b[1;33m(\u001b[0m\u001b[1;34m\"(Previsto - Real)/Previsto\"\u001b[0m\u001b[1;33m)\u001b[0m\u001b[1;33m\u001b[0m\u001b[0m\n",
      "\u001b[1;31mValueError\u001b[0m: operands could not be broadcast together with shapes (3582,1) (11,1) "
     ]
    },
    {
     "data": {
      "image/png": "[encoded data removed]",
      "text/plain": [
       "<matplotlib.figure.Figure at 0x7f9b08a8a4a8>"
      ]
     },
     "metadata": {},
     "output_type": "display_data"
    }
   ],
   "source": [
    "y_pred = y_pred.reshape(len(y_pred),1)\n",
    "fig = plt.figure(figsize=(10,10))\n",
    "ax1 = fig.add_subplot(3,1,1)\n",
    "ax1.plot(y, color=\"b\", marker=\"o\", linestyle=\"--\")\n",
    "ax1.plot(y_pred, color = \"r\", marker=\"o\", linestyle=\"-\")\n",
    "ax1.set_ylabel(\"Preço\")\n",
    "\n",
    "ax2 = fig.add_subplot(3,1,2)\n",
    "perc = ((y_pred-y)/y)*100\n",
    "ax2.bar(range(len(perc)),perc, align= \"edge\")\n",
    "ax2.set_ylabel(\"(Previsto - Real)/Previsto\")\n",
    "\n",
    "ax3 = fig.add_subplot(3,1,3)\n",
    "\n",
    "r_real=list()\n",
    "r_pred = list()\n",
    "for i in range(len(y[:])-1): \n",
    "    r_real.append((y[i+1][0]-y[i][0])/y[i])\n",
    "    r_pred.append((y_pred[i+1][0]-y[i][0])/y[i])\n",
    "\n",
    "ax3.bar(range(len(r_real)), r_real, color=\"b\")\n",
    "ax3.bar(range(len(r_pred)), r_pred, color=\"r\")\n",
    "\n",
    "ax3.set_ylabel(\"Retorno\")"
   ]
  },
  {
   "cell_type": "code",
   "execution_count": null,
   "metadata": {
    "collapsed": false
   },
   "outputs": [],
   "source": [
    "import rpy2\n",
    "print(rpy2.__version__)\n",
    "\n",
    "from rpy2.robjects.packages import importr\n",
    "# import R's \"base\" package\n",
    "base = importr('base')\n",
    "\n",
    "# import R's \"utils\" package\n",
    "utils = importr('utils')\n",
    "\n",
    "\n"
   ]
  },
  {
   "cell_type": "code",
   "execution_count": null,
   "metadata": {
    "collapsed": false
   },
   "outputs": [],
   "source": [
    "from sklearn.metrics import r2_score\n",
    "#print(r2_score(np.dot(X, true_coefficient), y))\n",
    "ypred = linear_regression.coef_[0, 0]*X[:,0] + linear_regression.coef_[0,1]*X[:,1] + linear_regression.intercept_[0]"
   ]
  },
  {
   "cell_type": "code",
   "execution_count": null,
   "metadata": {
    "collapsed": false
   },
   "outputs": [],
   "source": [
    "linear_regression.coef_[0,1]*X[:,1]"
   ]
  },
  {
   "cell_type": "code",
   "execution_count": null,
   "metadata": {
    "collapsed": false
   },
   "outputs": [],
   "source": [
    "fig = plt.figure()\n",
    "ax = fig.add_subplot(111)\n",
    "ax.plot(y, \"bo\")\n",
    "ax.plot(ypred, \"r+\")"
   ]
  },
  {
   "cell_type": "code",
   "execution_count": null,
   "metadata": {
    "collapsed": false
   },
   "outputs": [],
   "source": [
    "ypred"
   ]
  }
 ],
 "metadata": {
  "kernelspec": {
   "display_name": "Python 3",
   "language": "python",
   "name": "python3"
  },
  "language_info": {
   "codemirror_mode": {
    "name": "ipython",
    "version": 3
   },
   "file_extension": ".py",
   "mimetype": "text/x-python",
   "name": "python",
   "nbconvert_exporter": "python",
   "pygments_lexer": "ipython3",
   "version": "3.5.2"
  }
 },
 "nbformat": 4,
 "nbformat_minor": 0
}
