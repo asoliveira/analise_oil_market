{
 "cells": [
  {
   "cell_type": "code",
   "execution_count": 1,
   "metadata": {
    "collapsed": false
   },
   "outputs": [],
   "source": [
    "%matplotlib inline\n",
    "import matplotlib.pyplot as plt\n",
    "import numpy as np\n",
    "import pandas as pd"
   ]
  },
  {
   "cell_type": "code",
   "execution_count": 2,
   "metadata": {
    "collapsed": false
   },
   "outputs": [
    {
     "name": "stdout",
     "output_type": "stream",
     "text": [
      "global_oil_suply.xls  market_indicator.xls  Oil Analysis.ipynb  \u001b[0m\u001b[01;34mopec\u001b[0m/\r\n"
     ]
    }
   ],
   "source": [
    "%ls"
   ]
  },
  {
   "cell_type": "code",
   "execution_count": 3,
   "metadata": {
    "collapsed": false
   },
   "outputs": [],
   "source": [
    "db = pd.read_excel(\"global_oil_suply.xls\", skiprows=4, index_col=0)\n",
    "db1 = pd.read_excel(\"market_indicator.xls\",skiprows=5, index_col=0)"
   ]
  },
  {
   "cell_type": "code",
   "execution_count": 4,
   "metadata": {
    "collapsed": false
   },
   "outputs": [],
   "source": [
    "#db1.columns\n",
    "newcol = list(db1.columns)\n",
    "newcol[0] = \"Opec Basket\"\n",
    "db1.columns = newcol\n"
   ]
  },
  {
   "cell_type": "code",
   "execution_count": 5,
   "metadata": {
    "collapsed": false
   },
   "outputs": [
    {
     "name": "stdout",
     "output_type": "stream",
     "text": [
      "(1621,)\n",
      "(252,)\n"
     ]
    }
   ],
   "source": [
    "print(db1[\"Opec Basket\"].shape)\n",
    "print(db[\"Total Americas\"].shape)"
   ]
  },
  {
   "cell_type": "code",
   "execution_count": 6,
   "metadata": {
    "collapsed": false
   },
   "outputs": [
    {
     "data": {
      "text/plain": [
       "array(['2016-01-24T22:00:00.000000000-0200',\n",
       "       '2016-01-17T22:00:00.000000000-0200',\n",
       "       '2016-01-10T22:00:00.000000000-0200',\n",
       "       '2016-01-03T22:00:00.000000000-0200',\n",
       "       '2015-12-27T22:00:00.000000000-0200',\n",
       "       '2015-12-20T22:00:00.000000000-0200',\n",
       "       '2015-12-13T22:00:00.000000000-0200',\n",
       "       '2015-12-06T22:00:00.000000000-0200',\n",
       "       '2015-11-29T22:00:00.000000000-0200',\n",
       "       '2015-11-22T22:00:00.000000000-0200'], dtype='datetime64[ns]')"
      ]
     },
     "execution_count": 6,
     "metadata": {},
     "output_type": "execute_result"
    }
   ],
   "source": [
    "db1.resample(\"W\")\n",
    "db1.index[:10].values\n",
    "#db1.info()"
   ]
  },
  {
   "cell_type": "code",
   "execution_count": 7,
   "metadata": {
    "collapsed": true
   },
   "outputs": [],
   "source": [
    "db1.resample?"
   ]
  }
 ],
 "metadata": {
  "kernelspec": {
   "display_name": "Python 3",
   "language": "python",
   "name": "python3"
  },
  "language_info": {
   "codemirror_mode": {
    "name": "ipython",
    "version": 3
   },
   "file_extension": ".py",
   "mimetype": "text/x-python",
   "name": "python",
   "nbconvert_exporter": "python",
   "pygments_lexer": "ipython3",
   "version": "3.5.1"
  }
 },
 "nbformat": 4,
 "nbformat_minor": 0
}
