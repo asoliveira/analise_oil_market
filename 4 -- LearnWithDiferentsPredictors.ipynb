{
 "cells": [
  {
   "cell_type": "code",
   "execution_count": 1,
   "metadata": {
    "collapsed": false
   },
   "outputs": [
    {
     "name": "stdout",
     "output_type": "stream",
     "text": [
      "Alex S. Oliveira \n",
      "last updated: 2016-12-02\n"
     ]
    }
   ],
   "source": [
    "%load_ext watermark\n",
    "%watermark  -d -u -a 'Alex S. Oliveira'"
   ]
  },
  {
   "cell_type": "markdown",
   "metadata": {},
   "source": [
    "# Apredendo com diferentes preditores\n",
    "\n",
    "Aprendendo com diferentes."
   ]
  },
  {
   "cell_type": "code",
   "execution_count": 2,
   "metadata": {
    "collapsed": false
   },
   "outputs": [],
   "source": [
    "% matplotlib inline\n",
    "import numpy as np\n",
    "import pandas as pd\n",
    "\n",
    "import matplotlib.pyplot as plt\n",
    "from matplotlib.pylab import rcParams\n",
    "\n",
    "rcParams['figure.figsize'] = 15, 6"
   ]
  },
  {
   "cell_type": "code",
   "execution_count": 3,
   "metadata": {
    "collapsed": false
   },
   "outputs": [],
   "source": [
    "db = pd.read_csv(\"opec/data_05_11_16.csv\", index_col=0, parse_dates=True)\n",
    "\n",
    "db_q = db.resample(\"Q\").mean()"
   ]
  },
  {
   "cell_type": "code",
   "execution_count": 4,
   "metadata": {
    "collapsed": false
   },
   "outputs": [
    {
     "name": "stdout",
     "output_type": "stream",
     "text": [
      "Markets_interest.csv     PET_CRD_CRPDN_ADC_MBBL_M.xls\r\n",
      "nonOECD_consumption.csv  saudi_production.csv\r\n",
      "nonOPEC_production.csv   Supply_summary.csv\r\n",
      "OECD_consumption.csv     table3c_M_199701-201712.csv\r\n",
      "opec_spare_capacity.csv  table4a_M_201101-201712.csv\r\n"
     ]
    }
   ],
   "source": [
    "%ls eia"
   ]
  },
  {
   "cell_type": "code",
   "execution_count": 5,
   "metadata": {
    "collapsed": false
   },
   "outputs": [
    {
     "data": {
      "text/html": [
       "<div>\n",
       "<table border=\"1\" class=\"dataframe\">\n",
       "  <thead>\n",
       "    <tr style=\"text-align: right;\">\n",
       "      <th></th>\n",
       "      <th>y-o-y % OECD Consumption Change</th>\n",
       "      <th>non-OECD Consumption Growth</th>\n",
       "      <th>Saudi Production Change</th>\n",
       "      <th>Spare Capacity</th>\n",
       "    </tr>\n",
       "  </thead>\n",
       "  <tbody>\n",
       "    <tr>\n",
       "      <th>2001-03-31</th>\n",
       "      <td>NaN</td>\n",
       "      <td>NaN</td>\n",
       "      <td>NaN</td>\n",
       "      <td>NaN</td>\n",
       "    </tr>\n",
       "    <tr>\n",
       "      <th>2001-06-30</th>\n",
       "      <td>1.57</td>\n",
       "      <td>2.33</td>\n",
       "      <td>0.58</td>\n",
       "      <td>1.62</td>\n",
       "    </tr>\n",
       "    <tr>\n",
       "      <th>2001-09-30</th>\n",
       "      <td>0.32</td>\n",
       "      <td>4.67</td>\n",
       "      <td>-0.18</td>\n",
       "      <td>2.71</td>\n",
       "    </tr>\n",
       "    <tr>\n",
       "      <th>2001-12-31</th>\n",
       "      <td>-0.57</td>\n",
       "      <td>0.90</td>\n",
       "      <td>-0.68</td>\n",
       "      <td>2.56</td>\n",
       "    </tr>\n",
       "    <tr>\n",
       "      <th>2002-03-31</th>\n",
       "      <td>-0.80</td>\n",
       "      <td>2.91</td>\n",
       "      <td>-1.19</td>\n",
       "      <td>3.43</td>\n",
       "    </tr>\n",
       "  </tbody>\n",
       "</table>\n",
       "</div>"
      ],
      "text/plain": [
       "            y-o-y % OECD Consumption Change  non-OECD Consumption Growth  \\\n",
       "2001-03-31                              NaN                          NaN   \n",
       "2001-06-30                             1.57                         2.33   \n",
       "2001-09-30                             0.32                         4.67   \n",
       "2001-12-31                            -0.57                         0.90   \n",
       "2002-03-31                            -0.80                         2.91   \n",
       "\n",
       "            Saudi Production Change  Spare Capacity  \n",
       "2001-03-31                      NaN             NaN  \n",
       "2001-06-30                     0.58            1.62  \n",
       "2001-09-30                    -0.18            2.71  \n",
       "2001-12-31                    -0.68            2.56  \n",
       "2002-03-31                    -1.19            3.43  "
      ]
     },
     "execution_count": 5,
     "metadata": {},
     "output_type": "execute_result"
    }
   ],
   "source": [
    "features = pd.read_csv(\"oil_features.csv\", index_col=0, parse_dates=True)\n",
    "\n",
    "features_drift = features.shift(1)\n",
    "features_drift.head()"
   ]
  },
  {
   "cell_type": "markdown",
   "metadata": {},
   "source": [
    "## Preciso torna y em valores booleanos\n",
    "\n",
    "* No caso do preço subir **True**\n",
    "* No caso de descer **False**"
   ]
  },
  {
   "cell_type": "code",
   "execution_count": 6,
   "metadata": {
    "collapsed": false,
    "scrolled": true
   },
   "outputs": [
    {
     "data": {
      "text/html": [
       "<div>\n",
       "<table border=\"1\" class=\"dataframe\">\n",
       "  <thead>\n",
       "    <tr style=\"text-align: right;\">\n",
       "      <th></th>\n",
       "      <th>Value</th>\n",
       "      <th>Logical</th>\n",
       "    </tr>\n",
       "    <tr>\n",
       "      <th>Date</th>\n",
       "      <th></th>\n",
       "      <th></th>\n",
       "    </tr>\n",
       "  </thead>\n",
       "  <tbody>\n",
       "    <tr>\n",
       "      <th>2003-03-31</th>\n",
       "      <td>NaN</td>\n",
       "      <td>False</td>\n",
       "    </tr>\n",
       "    <tr>\n",
       "      <th>2003-06-30</th>\n",
       "      <td>-4.574102</td>\n",
       "      <td>False</td>\n",
       "    </tr>\n",
       "    <tr>\n",
       "      <th>2003-09-30</th>\n",
       "      <td>1.552320</td>\n",
       "      <td>True</td>\n",
       "    </tr>\n",
       "    <tr>\n",
       "      <th>2003-12-31</th>\n",
       "      <td>1.360492</td>\n",
       "      <td>True</td>\n",
       "    </tr>\n",
       "    <tr>\n",
       "      <th>2004-03-31</th>\n",
       "      <td>1.979687</td>\n",
       "      <td>True</td>\n",
       "    </tr>\n",
       "  </tbody>\n",
       "</table>\n",
       "</div>"
      ],
      "text/plain": [
       "               Value Logical\n",
       "Date                        \n",
       "2003-03-31       NaN   False\n",
       "2003-06-30 -4.574102   False\n",
       "2003-09-30  1.552320    True\n",
       "2003-12-31  1.360492    True\n",
       "2004-03-31  1.979687    True"
      ]
     },
     "execution_count": 6,
     "metadata": {},
     "output_type": "execute_result"
    }
   ],
   "source": [
    "db_logical  = db_q - db_q.shift(1)\n",
    "db_logical[\"Logical\"] = db_logical.Value > 0\n",
    "db_logical.head()"
   ]
  },
  {
   "cell_type": "code",
   "execution_count": 7,
   "metadata": {
    "collapsed": false
   },
   "outputs": [
    {
     "name": "stdout",
     "output_type": "stream",
     "text": [
      "(54, 4)\n",
      "(54,)\n"
     ]
    }
   ],
   "source": [
    "X = np.array(features[\"2003-01\":\"2016-06\"])\n",
    "y = np.array(db_logical.Logical[\"2003-01\":\"2016-06\"])\n",
    "\n",
    "\n",
    "print(X.shape)\n",
    "print(y.shape)"
   ]
  },
  {
   "cell_type": "code",
   "execution_count": 16,
   "metadata": {
    "collapsed": false
   },
   "outputs": [],
   "source": [
    "from sklearn.model_selection import cross_val_score\n",
    "from sklearn.naive_bayes import GaussianNB\n",
    "from sklearn.model_selection import TimeSeriesSplit\n",
    "\n",
    "scores = list()\n",
    "gnb = GaussianNB()\n",
    "tscv = TimeSeriesSplit(n_splits=12)\n",
    "train_score = list()\n",
    "test_score = list()\n",
    "\n",
    "for train_index, test_index in tscv.split(X):\n",
    "    train_score.append(gnb.fit(X[train_index,:], y[train_index]))\n",
    "    test_score.append(gnb.fit(X[test_index,:], y[test_index]))\n",
    "    \n",
    "    "
   ]
  },
  {
   "cell_type": "code",
   "execution_count": 17,
   "metadata": {
    "collapsed": false
   },
   "outputs": [
    {
     "data": {
      "text/plain": [
       "[GaussianNB(priors=None),\n",
       " GaussianNB(priors=None),\n",
       " GaussianNB(priors=None),\n",
       " GaussianNB(priors=None),\n",
       " GaussianNB(priors=None),\n",
       " GaussianNB(priors=None),\n",
       " GaussianNB(priors=None),\n",
       " GaussianNB(priors=None),\n",
       " GaussianNB(priors=None),\n",
       " GaussianNB(priors=None),\n",
       " GaussianNB(priors=None),\n",
       " GaussianNB(priors=None)]"
      ]
     },
     "execution_count": 17,
     "metadata": {},
     "output_type": "execute_result"
    }
   ],
   "source": [
    "cross_val_score."
   ]
  },
  {
   "cell_type": "code",
   "execution_count": null,
   "metadata": {
    "collapsed": true
   },
   "outputs": [],
   "source": [
    "from sklearn.model_selection import TimeSeriesSplit\n",
    "from sklearn.linear_model import LinearRegression\n",
    "\n",
    "\n",
    "tscv = TimeSeriesSplit(n_splits=10)\n",
    "train_score = list()\n",
    "test_score = list()\n",
    "for train_index, test_index in tscv.split(X):\n",
    "        linear_regression = LinearRegression().fit(X[train_index,:], y[train_index])"
   ]
  },
  {
   "cell_type": "code",
   "execution_count": null,
   "metadata": {
    "collapsed": false
   },
   "outputs": [],
   "source": [
    "y_pred = linear_regression.predict(X)\n",
    "linear_regression.get_params()"
   ]
  },
  {
   "cell_type": "code",
   "execution_count": null,
   "metadata": {
    "collapsed": false
   },
   "outputs": [],
   "source": [
    "fig = plt.figure(figsize=(10,10))\n",
    "ax1 = fig.add_subplot(3,1,1)\n",
    "\n",
    "ax1.plot(y, color=\"b\", marker=\"o\", linestyle=\"--\", label=\"Preco\")\n",
    "ax1.plot(y_pred, color = \"r\", marker=\"o\", linestyle=\"-\", label=\"Previsão\")\n",
    "ax1.set_ylabel(\"Preço\")\n",
    "\n",
    "ax1.legend(loc=1)\n",
    "\n",
    "\n",
    "ax2 = fig.add_subplot(3,1,2)\n",
    "perc = ((y_pred-y)/y)*100\n",
    "ax2.bar(range(len(perc)),perc, align= \"edge\", label=r\"$\\frac{(yprevisto-y)}{y}$\")\n",
    "ax2.set_ylabel(\"(Previsto - Real)/Previsto\")\n",
    "ax2.set_title(\"Discrepância entre o preço previsto e o real.\")\n",
    "ax2.legend(loc=0, fontsize=\"xx-large\")\n",
    "\n",
    "\n",
    "ax3 = fig.add_subplot(3,1,3)\n",
    "\n",
    "r_real=list()\n",
    "r_pred = list()\n",
    "for i in range(len(y[:])-1): \n",
    "    r_real.append((y[i+1][0]-y[i][0])/y[i])\n",
    "    r_pred.append((y_pred[i+1][0]-y[i][0])/y[i])\n",
    "\n",
    "ax3.bar(range(len(r_real)), r_real, color=\"b\")\n",
    "ax3.bar(range(len(r_pred)), r_pred, color=\"r\")\n",
    "\n",
    "ax3.set_ylabel(\"Retorno\")\n",
    "\n",
    "#fig.legend((price_line, prev_line),(\"Preço OPEC\", \"Preço previsto\"), loc=1)"
   ]
  },
  {
   "cell_type": "code",
   "execution_count": null,
   "metadata": {
    "collapsed": false
   },
   "outputs": [],
   "source": [
    "r_pred = np.array(r_pred)\n"
   ]
  }
 ],
 "metadata": {
  "kernelspec": {
   "display_name": "Python 3",
   "language": "python",
   "name": "python3"
  },
  "language_info": {
   "codemirror_mode": {
    "name": "ipython",
    "version": 3
   },
   "file_extension": ".py",
   "mimetype": "text/x-python",
   "name": "python",
   "nbconvert_exporter": "python",
   "pygments_lexer": "ipython3",
   "version": "3.5.2"
  }
 },
 "nbformat": 4,
 "nbformat_minor": 0
}
